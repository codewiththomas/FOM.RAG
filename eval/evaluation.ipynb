{
 "cells": [
  {
   "cell_type": "markdown",
   "metadata": {},
   "source": [
    "# Evaluierung der Ergebnisse"
   ]
  },
  {
   "cell_type": "code",
   "execution_count": null,
   "metadata": {},
   "outputs": [
    {
     "name": "stdout",
     "output_type": "stream",
     "text": [
      "            METRIK    RAG  TF-IDF    GPT\n",
      "0      PRECISION@5  0.825   0.630    NaN\n",
      "1         RECALL@5  0.700   0.465    NaN\n",
      "2  ANTWORTRELEVANZ  4.125   3.125  3.350\n",
      "3      FAKTENTREUE  4.300   3.050  2.300\n",
      "4  VOLLSTÄNDIGKEIT  3.750   2.575  2.125\n"
     ]
    }
   ],
   "source": [
    "import pandas as pd\n",
    "\n",
    "file_path = \"evaluation_anonym.csv\" #same dir as notbook\n",
    "df = pd.read_csv(file_path, sep=\",\")\n",
    "\n",
    "metrics_avg = {\n",
    "    \"METRIK\": [\"PRECISION@5\", \"RECALL@5\", \"ANTWORTRELEVANZ\", \"FAKTENTREUE\", \"VOLLSTÄNDIGKEIT\"],\n",
    "    \"RAG\": [\n",
    "        df[\"RAG_Precision5\"].mean(),\n",
    "        df[\"RAG_Recall5\"].mean(),\n",
    "        df[\"RAG_Antwortrelevanz\"].mean(),\n",
    "        df[\"RAG_Faktentreue\"].mean(),\n",
    "        df[\"RAG_Vollständigkeit\"].mean()\n",
    "    ],\n",
    "    \"TF-IDF\": [\n",
    "        df[\"Baseline_Precision5\"].mean(),\n",
    "        df[\"Baseline_Recall5\"].mean(),\n",
    "        df[\"Baseline_Antwortrelevanz\"].mean(),\n",
    "        df[\"Baseline_Faktentreue\"].mean(),\n",
    "        df[\"Baseline_Vollständigkeit\"].mean()\n",
    "    ],\n",
    "    \"GPT\": [\n",
    "        None,  # Kein Precision@5 für GPT in den Daten vorhanden\n",
    "        None,  # Kein Recall@5 für GPT in den Daten vorhanden\n",
    "        df[\"GPT_Antwortrelevanz\"].mean(),\n",
    "        df[\"GPT_Faktentreue\"].mean(),\n",
    "        df[\"GPT_Vollständigkeit\"].mean()\n",
    "    ]\n",
    "}\n",
    "\n",
    "metrics_df = pd.DataFrame(metrics_avg)\n",
    "\n",
    "print(metrics_df)"
   ]
  }
 ],
 "metadata": {
  "kernelspec": {
   "display_name": ".venv",
   "language": "python",
   "name": "python3"
  },
  "language_info": {
   "codemirror_mode": {
    "name": "ipython",
    "version": 3
   },
   "file_extension": ".py",
   "mimetype": "text/x-python",
   "name": "python",
   "nbconvert_exporter": "python",
   "pygments_lexer": "ipython3",
   "version": "3.12.7"
  }
 },
 "nbformat": 4,
 "nbformat_minor": 2
}
